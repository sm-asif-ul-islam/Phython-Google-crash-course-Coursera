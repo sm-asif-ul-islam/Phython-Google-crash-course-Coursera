{
  "nbformat": 4,
  "nbformat_minor": 0,
  "metadata": {
    "colab": {
      "name": "Crash Course on Python by Google W4.ipynb",
      "provenance": [],
      "authorship_tag": "ABX9TyOfvzHm/3M8EFOLN0RE+QVH",
      "include_colab_link": true
    },
    "kernelspec": {
      "name": "python3",
      "display_name": "Python 3"
    }
  },
  "cells": [
    {
      "cell_type": "markdown",
      "metadata": {
        "id": "view-in-github",
        "colab_type": "text"
      },
      "source": [
        "<a href=\"https://colab.research.google.com/github/sm-asif-ul-islam/Phython-Google-crash-course-Coursera/blob/master/Crash_Course_on_Python_by_Google_W4.ipynb\" target=\"_parent\"><img src=\"https://colab.research.google.com/assets/colab-badge.svg\" alt=\"Open In Colab\"/></a>"
      ]
    },
    {
      "cell_type": "code",
      "metadata": {
        "id": "M6cfZ8QGHRcg",
        "colab_type": "code",
        "colab": {
          "base_uri": "https://localhost:8080/",
          "height": 35
        },
        "outputId": "a6451588-6cf9-4c31-ba7b-d873316b4025"
      },
      "source": [
        "number = 1\n",
        "while number <= 7:\n",
        "\tprint(number, end=\" \")\n",
        "\tnumber +=1"
      ],
      "execution_count": null,
      "outputs": [
        {
          "output_type": "stream",
          "text": [
            "1 2 3 4 5 6 7 "
          ],
          "name": "stdout"
        }
      ]
    },
    {
      "cell_type": "code",
      "metadata": {
        "id": "KsXSXMHdHXaY",
        "colab_type": "code",
        "colab": {
          "base_uri": "https://localhost:8080/",
          "height": 108
        },
        "outputId": "1fa36a79-e600-451c-c300-2c7e9dcff7e2"
      },
      "source": [
        "def show_letters(word):\n",
        "\tfor letter in word:\n",
        "\t\tprint(letter)\n",
        "\n",
        "show_letters(\"Hello\")\n",
        "# Should print one line per letter"
      ],
      "execution_count": null,
      "outputs": [
        {
          "output_type": "stream",
          "text": [
            "H\n",
            "e\n",
            "l\n",
            "l\n",
            "o\n"
          ],
          "name": "stdout"
        }
      ]
    },
    {
      "cell_type": "code",
      "metadata": {
        "id": "VTPuinLlHbc7",
        "colab_type": "code",
        "colab": {
          "base_uri": "https://localhost:8080/",
          "height": 90
        },
        "outputId": "58be13b9-57a6-4fd5-c97c-482955639335"
      },
      "source": [
        "def digits(n):\n",
        "\tcount = 0\n",
        "\tif n == 0:\n",
        "\t  count +=1\n",
        "\twhile (n>0):\n",
        "\t\tcount += 1\n",
        "\t\tn = n//10\n",
        "\treturn count\n",
        "\t\n",
        "print(digits(25))   # Should print 2\n",
        "print(digits(144))  # Should print 3\n",
        "print(digits(1000)) # Should print 4\n",
        "print(digits(0))    # Should print 1"
      ],
      "execution_count": null,
      "outputs": [
        {
          "output_type": "stream",
          "text": [
            "2\n",
            "3\n",
            "4\n",
            "1\n"
          ],
          "name": "stdout"
        }
      ]
    },
    {
      "cell_type": "code",
      "metadata": {
        "id": "pu7E47JpHiU3",
        "colab_type": "code",
        "colab": {
          "base_uri": "https://localhost:8080/",
          "height": 72
        },
        "outputId": "c5e87d08-c058-4492-d1df-83750832a97d"
      },
      "source": [
        "def multiplication_table(start, stop):\n",
        "\tfor x in range (1,4):\n",
        "\t\t#print(str(x))\n",
        "\t\tfor y in range (1,4):\n",
        "\t\t\tprint(str(x*y), end=\" \")\n",
        "\t\tprint()\n",
        "\n",
        "multiplication_table(1, 3)\n",
        "# Should print the multiplication table shown above"
      ],
      "execution_count": null,
      "outputs": [
        {
          "output_type": "stream",
          "text": [
            "1 2 3 \n",
            "2 4 6 \n",
            "3 6 9 \n"
          ],
          "name": "stdout"
        }
      ]
    },
    {
      "cell_type": "code",
      "metadata": {
        "id": "9seRXQKWK0aF",
        "colab_type": "code",
        "colab": {
          "base_uri": "https://localhost:8080/",
          "height": 72
        },
        "outputId": "e5242f2d-5a76-4528-9c29-c10427b6ff74"
      },
      "source": [
        "def counter(start, stop):\n",
        "\tx = start\n",
        "\tif x>stop:\n",
        "\t\treturn_string = \"Counting down: \"\n",
        "\t\twhile x >= stop:\n",
        "\t\t\treturn_string += str(x)\n",
        "\t\t\tif x>stop:\n",
        "\t\t\t\treturn_string += \",\"\n",
        "\t\t\tx-=1\n",
        "\telse:\n",
        "\t\treturn_string = \"Counting up: \"\n",
        "\t\twhile x <= stop:\n",
        "\t\t\treturn_string += str(x)\n",
        "\t\t\tif x<stop:\n",
        "\t\t\t\treturn_string += \",\"\n",
        "\t\t\tx+=1\n",
        "\treturn return_string\n",
        "\n",
        "print(counter(1, 10)) # Should be \"Counting up: 1,2,3,4,5,6,7,8,9,10\"\n",
        "print(counter(2, 1)) # Should be \"Counting down: 2,1\"\n",
        "print(counter(5, 5)) # Should be \"Counting up: 5\""
      ],
      "execution_count": null,
      "outputs": [
        {
          "output_type": "stream",
          "text": [
            "Counting up: 1,2,3,4,5,6,7,8,9,10\n",
            "Counting down: 2,1\n",
            "Counting up: 5\n"
          ],
          "name": "stdout"
        }
      ]
    },
    {
      "cell_type": "code",
      "metadata": {
        "id": "0sRVxDuPFkAZ",
        "colab_type": "code",
        "colab": {
          "base_uri": "https://localhost:8080/",
          "height": 108
        },
        "outputId": "642b849f-e252-4f4f-c465-dd266d59c681"
      },
      "source": [
        "def even_numbers(maximum):\n",
        "\treturn_string = \"\"\n",
        "\tfor x in range(2,maximum+1,2):\n",
        "\t\treturn_string += str(x) + \" \"\n",
        "\treturn return_string.strip()\n",
        "\n",
        "print(even_numbers(6))  # Should be 2 4 6\n",
        "print(even_numbers(10)) # Should be 2 4 6 8 10\n",
        "print(even_numbers(1))  # No numbers displayed\n",
        "print(even_numbers(3))  # Should be 2\n",
        "print(even_numbers(0))  # No numbers displayed"
      ],
      "execution_count": null,
      "outputs": [
        {
          "output_type": "stream",
          "text": [
            "2 4 6\n",
            "2 4 6 8 10\n",
            "\n",
            "2\n",
            "\n"
          ],
          "name": "stdout"
        }
      ]
    },
    {
      "cell_type": "code",
      "metadata": {
        "id": "PP2s3zZfHphZ",
        "colab_type": "code",
        "colab": {}
      },
      "source": [
        ""
      ],
      "execution_count": null,
      "outputs": []
    },
    {
      "cell_type": "code",
      "metadata": {
        "id": "dfUs6TI9vJm4",
        "colab_type": "code",
        "colab": {
          "base_uri": "https://localhost:8080/",
          "height": 72
        },
        "outputId": "210121d8-96fe-46c2-a969-173ae1b17287"
      },
      "source": [
        "def double_word(word):\n",
        "\n",
        "      text=word*2\n",
        "\n",
        "      text= str(text)+str(len(text))\n",
        "\n",
        "      return text\n",
        "\n",
        "print(double_word(\"hello\")) # Should return hellohello10 [but I got('hellohello', 10)\n",
        "print(double_word(\"abc\")) # Should return abcabc6 [but I got ('abcabc', 6)\n",
        "print(double_word(\"\")) # Should return 00 [but I got ( '', 0)"
      ],
      "execution_count": null,
      "outputs": [
        {
          "output_type": "stream",
          "text": [
            "hellohello10\n",
            "abcabc6\n",
            "0\n"
          ],
          "name": "stdout"
        }
      ]
    },
    {
      "cell_type": "code",
      "metadata": {
        "id": "hoMn0je89zWN",
        "colab_type": "code",
        "colab": {
          "base_uri": "https://localhost:8080/",
          "height": 72
        },
        "outputId": "e0834da6-0c2d-4449-e1fb-d4e1d98e4d11"
      },
      "source": [
        "def double_word(word):\n",
        "\n",
        "     text = word * 2\n",
        "     text = str(text) + str(len(text))\n",
        "     return text\n",
        "\n",
        "print(double_word(\"hello\")) # Should return hellohello10\n",
        "\n",
        "print(double_word(\"abc\")) # Should return abcabc6\n",
        "\n",
        "print(double_word(\"\")) # Should return 0"
      ],
      "execution_count": null,
      "outputs": [
        {
          "output_type": "stream",
          "text": [
            "hellohello10\n",
            "abcabc6\n",
            "0\n"
          ],
          "name": "stdout"
        }
      ]
    },
    {
      "cell_type": "code",
      "metadata": {
        "id": "AVV_Kdf_Cj5h",
        "colab_type": "code",
        "colab": {
          "base_uri": "https://localhost:8080/",
          "height": 72
        },
        "outputId": "5a8e9996-5cbb-4665-c1ba-e7fbb748157a"
      },
      "source": [
        "def first_and_last(message):\n",
        "   \n",
        "    if  message==\"\":\n",
        "       return True\n",
        "    elif message[0]!=message[-1]:\n",
        "       return False\n",
        "    else:\n",
        "      return True\n",
        "\n",
        "print(first_and_last(\"else\"))\n",
        "print(first_and_last(\"tree\"))\n",
        "print(first_and_last(\"\"))"
      ],
      "execution_count": null,
      "outputs": [
        {
          "output_type": "stream",
          "text": [
            "True\n",
            "False\n",
            "True\n"
          ],
          "name": "stdout"
        }
      ]
    },
    {
      "cell_type": "code",
      "metadata": {
        "id": "uYtRZDkWQaMt",
        "colab_type": "code",
        "colab": {
          "base_uri": "https://localhost:8080/",
          "height": 72
        },
        "outputId": "398e4511-ec06-4616-e802-deded092b7f5"
      },
      "source": [
        "def initials(phrase):\n",
        "    words = phrase.upper().split(\" \")\n",
        "    result = \"\"\n",
        "    for word in words:\n",
        "        result += word[0]\n",
        "    return result\n",
        "\n",
        "print(initials(\"Universal Serial Bus\")) # Should be: USB\n",
        "print(initials(\"local area network\")) # Should be: LAN\n",
        "print(initials(\"Operating system\")) # Should be: OS"
      ],
      "execution_count": null,
      "outputs": [
        {
          "output_type": "stream",
          "text": [
            "USB\n",
            "LAN\n",
            "OS\n"
          ],
          "name": "stdout"
        }
      ]
    },
    {
      "cell_type": "code",
      "metadata": {
        "id": "HDLRe59XcDeE",
        "colab_type": "code",
        "colab": {
          "base_uri": "https://localhost:8080/",
          "height": 72
        },
        "outputId": "00e75424-8813-4f71-a19f-5806708ce4d5"
      },
      "source": [
        "def student_grade(name, grade):\n",
        "\treturn \"{name} received {grade} on the exam\".format(name=name,grade=grade)\n",
        "\n",
        "print(student_grade(\"Reed\", 80))\n",
        "print(student_grade(\"Paige\", 92))\n",
        "print(student_grade(\"Jesse\", 85))"
      ],
      "execution_count": null,
      "outputs": [
        {
          "output_type": "stream",
          "text": [
            "Reed received 80 on the exam\n",
            "Paige received 92 on the exam\n",
            "Jesse received 85 on the exam\n"
          ],
          "name": "stdout"
        }
      ]
    },
    {
      "cell_type": "code",
      "metadata": {
        "id": "Duf2zBqPx_ke",
        "colab_type": "code",
        "colab": {
          "base_uri": "https://localhost:8080/",
          "height": 72
        },
        "outputId": "1e9b1eb6-1717-4473-b611-35fd340edee5"
      },
      "source": [
        "def format_address(address_string):\n",
        "    # Declare variables\n",
        "    home_number = 0\n",
        "    home_address = ''\n",
        "    # Separate the address string into parts\n",
        "    parts = address_string.split()\n",
        "\n",
        "    for part in parts:\n",
        "    # Determine if the address part is the\n",
        "    # house number or part of the street name\n",
        "        if part.isnumeric():\n",
        "            home_number = part\n",
        "        else:\n",
        "            home_address += part + ' '\n",
        "    # Does anything else need to be done \n",
        "    # before returning the result?\n",
        "  \n",
        "  # Return the formatted string  \n",
        "    return \"house number {} on street named {}\".format(home_number,home_address)\n",
        "\n",
        "print(format_address(\"123 Main Street\"))\n",
        "# Should print: \"house number 123 on street named Main Street\"\n",
        "\n",
        "print(format_address(\"1001 1st Ave\"))\n",
        "# Should print: \"house number 1001 on street named 1st Ave\"\n",
        "\n",
        "print(format_address(\"55 North Center Drive\"))\n",
        "# Should print \"house number 55 on street named North Center Drive\""
      ],
      "execution_count": null,
      "outputs": [
        {
          "output_type": "stream",
          "text": [
            "house number 123 on street named Main Street \n",
            "house number 1001 on street named 1st Ave \n",
            "house number 55 on street named North Center Drive \n"
          ],
          "name": "stdout"
        }
      ]
    },
    {
      "cell_type": "code",
      "metadata": {
        "id": "hnygVB8NylR4",
        "colab_type": "code",
        "colab": {
          "base_uri": "https://localhost:8080/",
          "height": 72
        },
        "outputId": "415a5a94-388e-4b5a-84dd-327041aee3dd"
      },
      "source": [
        "def is_palindrome(input_string):\n",
        "\t# We'll create two strings, to compare them\n",
        "\tnew_string = \"\"\n",
        "\treverse_string = \"\"\n",
        "\t# Traverse through each letter of the input string\n",
        "\tfor word in input_string.upper():\n",
        "\t\t# Add any non-blank letters to the \n",
        "\t\t# end of one string, and to the front\n",
        "\t\t# of the other string. \n",
        "\t\tif word != ' ':\n",
        "\t\t\tnew_string = new_string + word\n",
        "\t\t\treverse_string = word + reverse_string\n",
        "\t# Compare the strings\n",
        "\tif new_string == reverse_string:\n",
        "\t\treturn True\n",
        "\treturn False\n",
        "\n",
        "print(is_palindrome(\"Never Odd or Even\")) # Should be True\n",
        "print(is_palindrome(\"abc\")) # Should be False\n",
        "print(is_palindrome(\"kayak\")) # Should be True"
      ],
      "execution_count": null,
      "outputs": [
        {
          "output_type": "stream",
          "text": [
            "True\n",
            "False\n",
            "True\n"
          ],
          "name": "stdout"
        }
      ]
    },
    {
      "cell_type": "code",
      "metadata": {
        "id": "fjeF2_rh9uXp",
        "colab_type": "code",
        "colab": {
          "base_uri": "https://localhost:8080/",
          "height": 72
        },
        "outputId": "60213490-e20e-41d7-9dbb-915cfba8295e"
      },
      "source": [
        "def convert_distance(miles):\n",
        "\tkm = miles * 1.6 \n",
        "\tresult = \"{} miles equals {:.1f} km\".format(miles,km)\n",
        "\treturn result\n",
        "\n",
        "print(convert_distance(12)) # Should be: 12 miles equals 19.2 km\n",
        "print(convert_distance(5.5)) # Should be: 5.5 miles equals 8.8 km\n",
        "print(convert_distance(11)) # Should be: 11 miles equals 17.6 km"
      ],
      "execution_count": null,
      "outputs": [
        {
          "output_type": "stream",
          "text": [
            "12 miles equals 19.2 km\n",
            "5.5 miles equals 8.8 km\n",
            "11 miles equals 17.6 km\n"
          ],
          "name": "stdout"
        }
      ]
    },
    {
      "cell_type": "markdown",
      "metadata": {
        "id": "H0LNiXPpJfbZ",
        "colab_type": "text"
      },
      "source": [
        "The replace_ending function replaces the old string in a sentence with the new string, but only if the sentence ends with the old string. If there is more than one occurrence of the old string in the sentence, only the one at the end is replaced, not all of them. For example, replace_ending(\"abcabc\", \"abc\", \"xyz\") should return abcxyz, not xyzxyz or xyzabc. The string comparison is case-sensitive, so replace_ending(\"abcabc\", \"ABC\", \"xyz\") should return abcabc (no changes made).\n",
        "\n"
      ]
    },
    {
      "cell_type": "code",
      "metadata": {
        "id": "JTU0tr5chqpW",
        "colab_type": "code",
        "colab": {}
      },
      "source": [
        "def replace_ending(sentence, old, new):\n",
        "\t# Check if the old string is at the end of the sentence \n",
        "\tif old in sentence:\n",
        "\t\t# Using i as the slicing index, combine the part\n",
        "\t\t# of the sentence up to the matched string at the \n",
        "\t\t# end with the new string\n",
        "\t\ti = sentence.split(\" \")\n",
        "\t\tnew_sentence = ___\n",
        "\t\treturn new_sentence\n",
        "\n",
        "\t# Return the original sentence if there is no match \n",
        "\treturn sentence\n",
        "\t\n",
        "print(replace_ending(\"It's raining cats and cats\", \"cats\", \"dogs\")) \n",
        "# Should display \"It's raining cats and dogs\"\n",
        "print(replace_ending(\"She sells seashells by the seashore\", \"seashells\", \"donuts\")) \n",
        "# Should display \"She sells seashells by the seashore\"\n",
        "print(replace_ending(\"The weather is nice in May\", \"may\", \"april\")) \n",
        "# Should display \"The weather is nice in May\"\n",
        "print(replace_ending(\"The weather is nice in May\", \"May\", \"April\")) \n",
        "# Should display \"The weather is nice in April\"\n"
      ],
      "execution_count": null,
      "outputs": []
    },
    {
      "cell_type": "code",
      "metadata": {
        "id": "Mdq8daHECVeN",
        "colab_type": "code",
        "colab": {
          "base_uri": "https://localhost:8080/",
          "height": 90
        },
        "outputId": "45325290-cb2a-4b7a-9294-8c23e63f3f64"
      },
      "source": [
        "def format_name(first_name, last_name):\n",
        "\tif len(first_name) and len(last_name) > 0:\n",
        "\t   format_name = str(last_name)+\", \"+str(first_name)\n",
        "\telif len(first_name) == 0 and len(last_name) > 0:\n",
        "\t   format_name = last_name\n",
        "\telif len(first_name) > 0 and len(last_name) == 0:\n",
        "\t   format_name = first_name\n",
        "\telse:\n",
        "\t   format_name = ''\n",
        "\treturn format_name \n",
        "\t\n",
        "\n",
        "\n",
        "print(\"Name: \" + str(format_name(\"Ernest\", \"Hemingway\")))\n",
        "# Should be \"Name: Hemingway, Ernest\"\n",
        "print(\"Name: \" + str(format_name(\"\", \"Madonna\")))\n",
        "# Should be \"Name: Madonna\"\n",
        "print(\"Name: \" + str(format_name(\"Voltaire\", \"\")))\n",
        "# Should be \"Name: Voltaire\"\n",
        "print(format_name(\"\", \"\"))\n",
        "# Should be \"\""
      ],
      "execution_count": null,
      "outputs": [
        {
          "output_type": "stream",
          "text": [
            "Name: Hemingway, Ernest\n",
            "Name: Madonna\n",
            "Name: Voltaire\n",
            "\n"
          ],
          "name": "stdout"
        }
      ]
    },
    {
      "cell_type": "code",
      "metadata": {
        "id": "8chvDRxSOjoB",
        "colab_type": "code",
        "colab": {
          "base_uri": "https://localhost:8080/",
          "height": 72
        },
        "outputId": "4a826ebd-547f-42cb-f6c5-27b065d23bf4"
      },
      "source": [
        "def longest_word(word1, word2, word3):\n",
        "    if len(word1) >= len(word2) and len(word1) >= len(word3):\n",
        "       word = word1\n",
        "    elif len(word2) >= len(word1) and len(word2) >= len(word3): \n",
        "       word = word2\n",
        "    else:\n",
        "       word = word3\n",
        "\n",
        "    return(word)\n",
        "\n",
        "print(longest_word(\"chair\", \"couch\", \"table\"))\n",
        "print(longest_word(\"bed\", \"bath\", \"beyond\"))\n",
        "print(longest_word(\"laptop\", \"notebook\", \"desktop\"))"
      ],
      "execution_count": null,
      "outputs": [
        {
          "output_type": "stream",
          "text": [
            "chair\n",
            "beyond\n",
            "notebook\n"
          ],
          "name": "stdout"
        }
      ]
    },
    {
      "cell_type": "code",
      "metadata": {
        "id": "_tVp0KDeoAew",
        "colab_type": "code",
        "colab": {
          "base_uri": "https://localhost:8080/",
          "height": 90
        },
        "outputId": "aec92009-c1c8-4d5a-ec5c-564c14edc7f3"
      },
      "source": [
        "def get_word(sentence, n):\n",
        "\t# Only proceed if n is positive \n",
        "\tif n > 0:\n",
        "\t\twords = sentence.split()\n",
        "\t\t# Only proceed if n is not more than the number of words \n",
        "\t\tif n <= len(words):\n",
        "      \n",
        "\t\t\treturn(words[n-1])\n",
        "\t\t\n",
        "\treturn(\"\")\n",
        "\n",
        "print(get_word(\"This is a lesson about lists\", 4)) # Should print: lesson\n",
        "print(get_word(\"This is a lesson about lists\", -4)) # Nothing\n",
        "print(get_word(\"Now we are cooking!\", 1)) # Should print: Now\n",
        "print(get_word(\"Now we are cooking!\", 5)) # Nothing"
      ],
      "execution_count": null,
      "outputs": [
        {
          "output_type": "stream",
          "text": [
            "lesson\n",
            "\n",
            "Now\n",
            "\n"
          ],
          "name": "stdout"
        }
      ]
    },
    {
      "cell_type": "code",
      "metadata": {
        "id": "LgU0mcTGnOfl",
        "colab_type": "code",
        "colab": {
          "base_uri": "https://localhost:8080/",
          "height": 35
        },
        "outputId": "b1f73b11-7485-4ef3-8581-aa58e0d0f225"
      },
      "source": [
        "filenames = [\"program.c\", \"stdio.hpp\", \"sample.hpp\", \"a.out\", \"math.hpp\", \"hpp.out\"]\n",
        "# Generate newfilenames as a list containing the new filenames\n",
        "# using as many lines of code as your chosen method requires.\n",
        "newfilenames=filenames.copy()\n",
        "#for filename in filenames:\n",
        "#if filenam.endswith(.hpp):\n",
        "newfilenames= [filename.replace(\".hpp\",\".h\") for filename in filenames] #if filename.endswith(\".hpp\")]\n",
        "\n",
        "print(newfilenames) \n",
        "# Should be [\"program.c\", \"stdio.h\", \"sample.h\", \"a.out\", \"math.h\", \"hpp.out\"]"
      ],
      "execution_count": null,
      "outputs": [
        {
          "output_type": "stream",
          "text": [
            "['program.c', 'stdio.h', 'sample.h', 'a.out', 'math.h', 'hpp.out']\n"
          ],
          "name": "stdout"
        }
      ]
    },
    {
      "cell_type": "code",
      "metadata": {
        "id": "6FWBFgBY4hBV",
        "colab_type": "code",
        "colab": {
          "base_uri": "https://localhost:8080/",
          "height": 72
        },
        "outputId": "a47a2568-5ee2-4e60-8265-bd7c4ec678ec"
      },
      "source": [
        "def group_list(group, users):\n",
        "  members = \", \"\n",
        "  mem = members.join(users)\n",
        "  return group + \": \" + mem\n",
        "\n",
        "print(group_list(\"Marketing\", [\"Mike\", \"Karen\", \"Jake\", \"Tasha\"])) # Should be \"Marketing: Mike, Karen, Jake, Tasha\"\n",
        "print(group_list(\"Engineering\", [\"Kim\", \"Jay\", \"Tom\"])) # Should be \"Engineering: Kim, Jay, Tom\"\n",
        "print(group_list(\"Users\", \"\")) # Should be \"Users:\""
      ],
      "execution_count": null,
      "outputs": [
        {
          "output_type": "stream",
          "text": [
            "Marketing: Mike, Karen, Jake, Tasha\n",
            "Engineering: Kim, Jay, Tom\n",
            "Users: \n"
          ],
          "name": "stdout"
        }
      ]
    },
    {
      "cell_type": "code",
      "metadata": {
        "id": "0svFALdE5rpu",
        "colab_type": "code",
        "colab": {
          "base_uri": "https://localhost:8080/",
          "height": 110
        },
        "outputId": "7e7c7011-32b3-4507-989f-d24a2827f32e"
      },
      "source": [
        "def guest_list(guests):\n",
        "\tfor g,a,o in guests:\n",
        "\t\t\n",
        "\t\tprint(\"{} is {} years old and works as {}\".format(g,a,o))\n",
        "\n",
        "guest_list([('Ken', 30, \"Chef\"), (\"Pat\", 35, 'Lawyer'), ('Amanda', 25, \"Engineer\")])\n",
        "\n",
        "\"\"\"\n",
        "Output should match:\n",
        "Ken is 30 years old and works as Chef\n",
        "Pat is 35 years old and works as Lawyer\n",
        "Amanda is 25 years old and works as Engineer\n",
        "\"\"\""
      ],
      "execution_count": null,
      "outputs": [
        {
          "output_type": "stream",
          "text": [
            "Ken is 30 years old and works as Chef\n",
            "Pat is 35 years old and works as Lawyer\n",
            "Amanda is 25 years old and works as Engineer\n"
          ],
          "name": "stdout"
        },
        {
          "output_type": "execute_result",
          "data": {
            "text/plain": [
              "'\\nOutput should match:\\nKen is 30 years old and works as Chef\\nPat is 35 years old and works as Lawyer\\nAmanda is 25 years old and works as Engineer\\n'"
            ]
          },
          "metadata": {
            "tags": []
          },
          "execution_count": 9
        }
      ]
    },
    {
      "cell_type": "code",
      "metadata": {
        "id": "0JVSsOJl6_AN",
        "colab_type": "code",
        "colab": {
          "base_uri": "https://localhost:8080/",
          "height": 90
        },
        "outputId": "66a56c26-7788-45c7-e2ae-ca4a6d3825a2"
      },
      "source": [
        "def octal_to_string(octal):\n",
        " result = \"\"\n",
        " value_letters = [(4,\"r\"),(2,\"w\"),(1,\"x\")]\n",
        "# Iterate over each of the digits in octal\n",
        " for x in [int(n) for n in str(octal)]:\n",
        "\n",
        "# Check for each of the permissions values\n",
        "\n",
        "  for value, letter in value_letters:\n",
        "\n",
        "   if x >= value:\n",
        "\n",
        "    result += letter\n",
        "\n",
        "    x-= value\n",
        "\n",
        "   else:\n",
        "\n",
        "    result +='-'\n",
        " return result\n",
        "\n",
        "print(octal_to_string(755)) # Should be rwxr-xr-x\n",
        "\n",
        "print(octal_to_string(644)) # Should be rw-r--r--\n",
        "\n",
        "print(octal_to_string(750)) # Should be rwxr-x---\n",
        "\n",
        "print(octal_to_string(600)) # Should be rw-------"
      ],
      "execution_count": null,
      "outputs": [
        {
          "output_type": "stream",
          "text": [
            "rwxr-xr-x\n",
            "rw-r--r--\n",
            "rwxr-x---\n",
            "rw-------\n"
          ],
          "name": "stdout"
        }
      ]
    },
    {
      "cell_type": "code",
      "metadata": {
        "id": "JbOTXR_lJvqP",
        "colab_type": "code",
        "colab": {
          "base_uri": "https://localhost:8080/",
          "height": 135
        },
        "outputId": "0c596860-cb2b-41fe-8774-f125733f29af"
      },
      "source": [
        "def combine_lists(list1, list2):\n",
        "  # Generate a new list containing the elements of list2\n",
        "  # Followed by the elements of list1 in reverse order\n",
        "  combine_lists= list1+list2.reverse()\n",
        "\treturn combine_lists()\n",
        "Jamies_list = [\"Alice\", \"Cindy\", \"Bobby\", \"Jan\", \"Peter\"]\n",
        "Drews_list = [\"Mike\", \"Carol\", \"Greg\", \"Marcia\"]\n",
        "print(combine_lists(Jamies_list, Drews_list))"
      ],
      "execution_count": null,
      "outputs": [
        {
          "output_type": "error",
          "ename": "TabError",
          "evalue": "ignored",
          "traceback": [
            "\u001b[0;36m  File \u001b[0;32m\"<ipython-input-4-fd16eb9c3077>\"\u001b[0;36m, line \u001b[0;32m5\u001b[0m\n\u001b[0;31m    return combine_lists()\u001b[0m\n\u001b[0m                          ^\u001b[0m\n\u001b[0;31mTabError\u001b[0m\u001b[0;31m:\u001b[0m inconsistent use of tabs and spaces in indentation\n"
          ]
        }
      ]
    },
    {
      "cell_type": "code",
      "metadata": {
        "id": "UCtaJ-SJL5Yw",
        "colab_type": "code",
        "colab": {
          "base_uri": "https://localhost:8080/",
          "height": 35
        },
        "outputId": "4a41c636-70f0-473e-aace-3dc2752ffcd7"
      },
      "source": [
        "def combine_lists(list1, list2):\n",
        "  # Generate a new list containing the elements of list2\n",
        "  # Followed by the elements of list1 in reverse order\n",
        "  list1.reverse()\n",
        "  return list2+list1 \n",
        "\n",
        "Jamies_list = [\"Alice\", \"Cindy\", \"Bobby\", \"Jan\", \"Peter\"]\n",
        "Drews_list = [\"Mike\", \"Carol\", \"Greg\", \"Marcia\"]\n",
        "print(combine_lists(Jamies_list, Drews_list))"
      ],
      "execution_count": 1,
      "outputs": [
        {
          "output_type": "stream",
          "text": [
            "['Mike', 'Carol', 'Greg', 'Marcia', 'Peter', 'Jan', 'Bobby', 'Cindy', 'Alice']\n"
          ],
          "name": "stdout"
        }
      ]
    },
    {
      "cell_type": "code",
      "metadata": {
        "id": "KDOoFJqnN3SO",
        "colab_type": "code",
        "colab": {
          "base_uri": "https://localhost:8080/",
          "height": 54
        },
        "outputId": "3b79e9a5-3b22-4b6e-9835-30e1cb54c7d6"
      },
      "source": [
        "# Operating System List\n",
        "systems = ['Windows', 'macOS', 'Linux']\n",
        "print('Original List:', systems)\n",
        "\n",
        "# List Reverse\n",
        "systems.reverse()\n",
        "\n",
        "# updated list\n",
        "print('Updated List:', systems)"
      ],
      "execution_count": null,
      "outputs": [
        {
          "output_type": "stream",
          "text": [
            "Original List: ['Windows', 'macOS', 'Linux']\n",
            "Updated List: ['Linux', 'macOS', 'Windows']\n"
          ],
          "name": "stdout"
        }
      ]
    }
  ]
}