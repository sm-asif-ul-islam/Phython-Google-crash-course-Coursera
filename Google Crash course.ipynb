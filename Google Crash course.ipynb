{
  "nbformat": 4,
  "nbformat_minor": 0,
  "metadata": {
    "colab": {
      "name": "Untitled1.ipynb",
      "provenance": [],
      "authorship_tag": "ABX9TyPw5ghKWZvEgwrgxKYcW/PJ",
      "include_colab_link": true
    },
    "kernelspec": {
      "name": "python3",
      "display_name": "Python 3"
    }
  },
  "cells": [
    {
      "cell_type": "markdown",
      "metadata": {
        "id": "view-in-github",
        "colab_type": "text"
      },
      "source": [
        "<a href=\"https://colab.research.google.com/github/sm-asif-ul-islam/Phython-Google-crash-course-Coursera/blob/master/Google%20Crash%20course.ipynb\" target=\"_parent\"><img src=\"https://colab.research.google.com/assets/colab-badge.svg\" alt=\"Open In Colab\"/></a>"
      ]
    },
    {
      "cell_type": "markdown",
      "metadata": {
        "id": "hipmzBl7ftkC",
        "colab_type": "text"
      },
      "source": [
        "The multiplication_table function prints the results of a number passed to it multiplied by 1 through 5. An additional requirement is that the result is not to exceed 25, which is done with the break statement. Fill in the blanks to complete the function to satisfy these conditions."
      ]
    },
    {
      "cell_type": "code",
      "metadata": {
        "id": "Hmhm-x2AYf9Q",
        "colab_type": "code",
        "colab": {
          "base_uri": "https://localhost:8080/",
          "height": 254
        },
        "outputId": "99ecf656-b800-41e7-a853-0f3c35095468"
      },
      "source": [
        "def multiplication_table(number):\n",
        "\t# Initialize the starting point of the multiplication table\n",
        "\tmultiplier = 1\n",
        "\t# Only want to loop through 5\n",
        "\twhile multiplier <= 5:\n",
        "\t\tresult = multiplier*number \n",
        "\t\t# What is the additional condition to exit out of the loop?\n",
        "\t\tif result > 25 :\n",
        "\t\t\tbreak\n",
        "\t\tprint(str(number) + \"x\" + str(multiplier) + \"=\" + str(result))\n",
        "\t\t# Increment the variable for the loop\n",
        "\t\tmultiplier += 1\n",
        "\n",
        "multiplication_table(3) \n",
        "# Should print: 3x1=3 3x2=6 3x3=9 3x4=12 3x5=15\n",
        "\n",
        "multiplication_table(5) \n",
        "# Should print: 5x1=5 5x2=10 5x3=15 5x4=20 5x5=25\n",
        "\n",
        "multiplication_table(8)\t\n",
        "# Should print: 8x1=8 8x2=16 8x3=24"
      ],
      "execution_count": 1,
      "outputs": [
        {
          "output_type": "stream",
          "text": [
            "3x1=3\n",
            "3x2=6\n",
            "3x3=9\n",
            "3x4=12\n",
            "3x5=15\n",
            "5x1=5\n",
            "5x2=10\n",
            "5x3=15\n",
            "5x4=20\n",
            "5x5=25\n",
            "8x1=8\n",
            "8x2=16\n",
            "8x3=24\n"
          ],
          "name": "stdout"
        }
      ]
    },
    {
      "cell_type": "markdown",
      "metadata": {
        "id": "_4eXxuPka05z",
        "colab_type": "text"
      },
      "source": [
        "Fill in the empty function so that it returns the sum of all the divisors of a number, without including it. A divisor is a number that divides into another without a remainder."
      ]
    },
    {
      "cell_type": "code",
      "metadata": {
        "id": "SRVniXyQZjoI",
        "colab_type": "code",
        "colab": {
          "base_uri": "https://localhost:8080/",
          "height": 90
        },
        "outputId": "6ed8a255-78ba-4d79-f7bf-aa50b9c66f80"
      },
      "source": [
        "def sum_divisors(n):\n",
        "  sum = 0\n",
        "  d=1\n",
        "  while n !=0 and d<n:\n",
        "   if n%d==0:\n",
        "      sum=sum+d\n",
        "  \n",
        "   d +=1\n",
        "\n",
        "    \n",
        "  # Return the sum of all divisors of n, not including n\n",
        "  return sum\n",
        "\n",
        "print(sum_divisors(0))\n",
        "# 0\n",
        "print(sum_divisors(3)) # Should sum of 1\n",
        "# 1\n",
        "print(sum_divisors(36)) # Should sum of 1+2+3+4+6+9+12+18\n",
        "# 55\n",
        "print(sum_divisors(102)) # Should be sum of 2+3+6+17+34+51\n",
        "# 114"
      ],
      "execution_count": 5,
      "outputs": [
        {
          "output_type": "stream",
          "text": [
            "0\n",
            "1\n",
            "55\n",
            "114\n"
          ],
          "name": "stdout"
        }
      ]
    },
    {
      "cell_type": "markdown",
      "metadata": {
        "id": "pBn8hsk6famZ",
        "colab_type": "text"
      },
      "source": [
        "Fill in the blanks to make the print_prime_factors function print all the prime factors of a number. A prime factor is a number that is prime and divides another without a remainder."
      ]
    },
    {
      "cell_type": "code",
      "metadata": {
        "id": "2KPD2R_wfWjs",
        "colab_type": "code",
        "colab": {}
      },
      "source": [
        "def print_prime_factors(number):\n",
        "  # Start with two, which is the first prime\n",
        "  factor = 2\n",
        "  # Keep going until the factor is larger than the number\n",
        "  while factor <= number:\n",
        "    # Check if factor is a divisor of number\n",
        "    if number % factor == 0:\n",
        "      # If it is, print it and divide the original number\n",
        "      print(factor)\n",
        "      number = number / factor\n",
        "    else:\n",
        "      # If it's not, increment the factor by one\n",
        "      factor += 1\n",
        "  return \"Done\"\n",
        "\n",
        "print_prime_factors(100)\n",
        "# Should print 2,2,5,5\n",
        "# DO NOT DELETE THIS COMMENT"
      ],
      "execution_count": 0,
      "outputs": []
    },
    {
      "cell_type": "markdown",
      "metadata": {
        "id": "RZDI4o9zfcVx",
        "colab_type": "text"
      },
      "source": [
        "The following code can lead to an infinite loop. Fix the code so that it can finish successfully for all numbers.\n",
        "\n",
        "Note: Try running your function with the number 0 as the input, and see what you get!"
      ]
    },
    {
      "cell_type": "code",
      "metadata": {
        "id": "n0z9IWJzfjKZ",
        "colab_type": "code",
        "colab": {
          "base_uri": "https://localhost:8080/",
          "height": 90
        },
        "outputId": "7a54b8fa-5052-4f7f-8241-5303fdf80755"
      },
      "source": [
        "def is_power_of_two(n):\n",
        "  # Check if the number can be divided by two without a remainder\n",
        "  while n!=0 and n % 2 == 0:\n",
        "    n = n / 2\n",
        "  # If after dividing by two the number is 1, it's a power of two\n",
        "  if n == 1:\n",
        "    return True\n",
        "  return False\n",
        "  \n",
        "\n",
        "print(is_power_of_two(0)) # Should be False\n",
        "print(is_power_of_two(1)) # Should be True\n",
        "print(is_power_of_two(8)) # Should be True\n",
        "print(is_power_of_two(9)) # Should be False"
      ],
      "execution_count": 6,
      "outputs": [
        {
          "output_type": "stream",
          "text": [
            "False\n",
            "True\n",
            "True\n",
            "False\n"
          ],
          "name": "stdout"
        }
      ]
    }
  ]
}