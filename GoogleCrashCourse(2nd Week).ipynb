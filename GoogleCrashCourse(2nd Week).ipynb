{
  "nbformat": 4,
  "nbformat_minor": 0,
  "metadata": {
    "colab": {
      "name": "Untitled0.ipynb",
      "provenance": [],
      "collapsed_sections": [],
      "authorship_tag": "ABX9TyNrl2b36622SU3KxqHtQyUy",
      "include_colab_link": true
    },
    "kernelspec": {
      "name": "python3",
      "display_name": "Python 3"
    }
  },
  "cells": [
    {
      "cell_type": "markdown",
      "metadata": {
        "id": "view-in-github",
        "colab_type": "text"
      },
      "source": [
        "<a href=\"https://colab.research.google.com/github/sm-asif-ul-islam/Phython-Google-crash-course-Coursera/blob/master/GoogleCrashCourse(2nd%20Week).ipynb\" target=\"_parent\"><img src=\"https://colab.research.google.com/assets/colab-badge.svg\" alt=\"Open In Colab\"/></a>"
      ]
    },
    {
      "cell_type": "code",
      "metadata": {
        "id": "APiAeSzKwztZ",
        "colab_type": "code",
        "colab": {
          "base_uri": "https://localhost:8080/",
          "height": 119
        },
        "outputId": "baae2403-e418-4ccb-93e9-10159c19736f"
      },
      "source": [
        "def color_translator(color):\n",
        "\tif color == \"red\":\n",
        "\t\thex_color = \"#ff0000\"\n",
        "\telif color == \"green\":\n",
        "\t\thex_color = \"#00ff00\"\n",
        "\telif color == \"blue\":\n",
        "\t\thex_color = \"#0000ff\"\n",
        "\telse:\n",
        "\t\thex_color = \"unknown\"\n",
        "\treturn hex_color\n",
        "\n",
        "print(color_translator(\"blue\")) # Should be #0000ff\n",
        "print(color_translator(\"yellow\")) # Should be unknown\n",
        "print(color_translator(\"red\")) # Should be #ff0000\n",
        "print(color_translator(\"black\")) # Should be unknown\n",
        "print(color_translator(\"green\")) # Should be #00ff00\n",
        "print(color_translator(\"\")) # Should be unknown"
      ],
      "execution_count": 1,
      "outputs": [
        {
          "output_type": "stream",
          "text": [
            "#0000ff\n",
            "unknown\n",
            "#ff0000\n",
            "unknown\n",
            "#00ff00\n",
            "unknown\n"
          ],
          "name": "stdout"
        }
      ]
    },
    {
      "cell_type": "code",
      "metadata": {
        "id": "Kto7QqBTKOZy",
        "colab_type": "code",
        "colab": {
          "base_uri": "https://localhost:8080/",
          "height": 119
        },
        "outputId": "b255bd0a-a749-495d-88a5-117c70aed5fc"
      },
      "source": [
        "def exam_grade(score):\n",
        "\tif score > 95:\n",
        "\t\tgrade = \"Top Score\"\n",
        "\telif score >= 60:\n",
        "\t\tgrade = \"Pass\"\n",
        "\telse:\n",
        "\t\tgrade = \"Fail\"\n",
        "\treturn grade\n",
        "\n",
        "print(exam_grade(65)) # Should be Pass\n",
        "print(exam_grade(55)) # Should be Fail\n",
        "print(exam_grade(60)) # Should be Pass\n",
        "print(exam_grade(95)) # Should be Pass\n",
        "print(exam_grade(100)) # Should be Top Score\n",
        "print(exam_grade(0)) # Should be Fail"
      ],
      "execution_count": 2,
      "outputs": [
        {
          "output_type": "stream",
          "text": [
            "Pass\n",
            "Fail\n",
            "Pass\n",
            "Pass\n",
            "Top Score\n",
            "Fail\n"
          ],
          "name": "stdout"
        }
      ]
    },
    {
      "cell_type": "code",
      "metadata": {
        "id": "SWqSgFUDKXXs",
        "colab_type": "code",
        "colab": {
          "base_uri": "https://localhost:8080/",
          "height": 129
        },
        "outputId": "8f0ba0a2-aa93-4598-9e76-ffbf56d010c3"
      },
      "source": [
        "#Error Name1 = last_name:\n",
        "#SyntaxError: invalid syntax\n",
        "def format_name(first_name, last_name):\n",
        "\t# code goes here\n",
        "\t   Name1 = last_name:\n",
        "     Name2 = first_name:\n",
        "\n",
        "\t   return print(\"Name: \"+ str (Name1, )+ str(Name2))\n",
        "\n",
        "print(format_name(\"Ernest\", \"Hemingway\"))\n",
        "# Should return the string \"Name: Hemingway, Ernest\"\n",
        "\n",
        "print(format_name(\"\", \"Madonna\"))\n",
        "# Should return the string \"Name: Madonna\"\n",
        "\n",
        "print(format_name(\"Voltaire\", \"\"))\n",
        "# Should return the string \"Name: Voltaire\"\n",
        "\n",
        "print(format_name(\"\", \"\"))\n",
        "# Should return an empty string"
      ],
      "execution_count": 22,
      "outputs": [
        {
          "output_type": "error",
          "ename": "SyntaxError",
          "evalue": "ignored",
          "traceback": [
            "\u001b[0;36m  File \u001b[0;32m\"<ipython-input-22-f312684b849f>\"\u001b[0;36m, line \u001b[0;32m3\u001b[0m\n\u001b[0;31m    Name1 = last_name:\u001b[0m\n\u001b[0m                     ^\u001b[0m\n\u001b[0;31mSyntaxError\u001b[0m\u001b[0;31m:\u001b[0m invalid syntax\n"
          ]
        }
      ]
    },
    {
      "cell_type": "code",
      "metadata": {
        "id": "dgM0QWnnKltc",
        "colab_type": "code",
        "colab": {
          "base_uri": "https://localhost:8080/",
          "height": 68
        },
        "outputId": "21a4df1e-29f5-4dda-8e08-6d7b076b87dd"
      },
      "source": [
        "def longest_word(word1, word2, word3):\n",
        "\tif len(word1) > len(word2) and len(word1) > len(word3):\n",
        "\t\tword = word1\n",
        "\telif len(word2)>len(word1) and len(word1)>len(word3):\n",
        "\t\tword = word2\n",
        "\telse:\n",
        "\t\tword = word3\n",
        "\treturn(word)\n",
        " #Incorrect Not quite, longest_word('chair', 'couch', 'table') returned table, should be chair.\n",
        "\n",
        "print(longest_word(\"chair\", \"couch\", \"table\"))\n",
        "print(longest_word(\"bed\", \"bath\", \"beyond\"))\n",
        "print(longest_word(\"laptop\", \"notebook\", \"desktop\"))"
      ],
      "execution_count": 13,
      "outputs": [
        {
          "output_type": "stream",
          "text": [
            "table\n",
            "beyond\n",
            "desktop\n"
          ],
          "name": "stdout"
        }
      ]
    },
    {
      "cell_type": "code",
      "metadata": {
        "id": "DJEI8E7xLZ-S",
        "colab_type": "code",
        "colab": {
          "base_uri": "https://localhost:8080/",
          "height": 119
        },
        "outputId": "76b8c0d0-fc26-40f8-a890-f88df463b07a"
      },
      "source": [
        "def fractional_part(numerator, denominator):\n",
        "# keep just the fractional part of the quotient\n",
        "\tif denominator ==0:\n",
        "\t return 0\n",
        "\telse:\n",
        "\t return ((numerator - ((numerator//denominator)*denominator))/denominator)\n",
        "\t  \n",
        "\t\n",
        "print(fractional_part(5, 5)) # Should be 0\n",
        "print(fractional_part(5, 4)) # Should be 0.25\n",
        "print(fractional_part(5, 3)) # Should be 0.66...\n",
        "print(fractional_part(5, 2)) # Should be 0.5\n",
        "print(fractional_part(5, 0)) # Should be 0\n",
        "print(fractional_part(0, 5)) # Should be 0"
      ],
      "execution_count": 8,
      "outputs": [
        {
          "output_type": "stream",
          "text": [
            "0.0\n",
            "0.25\n",
            "0.6666666666666666\n",
            "0.5\n",
            "0\n",
            "0.0\n"
          ],
          "name": "stdout"
        }
      ]
    }
  ]
}