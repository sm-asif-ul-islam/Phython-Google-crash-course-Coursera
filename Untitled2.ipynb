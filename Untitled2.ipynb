{
  "nbformat": 4,
  "nbformat_minor": 0,
  "metadata": {
    "colab": {
      "name": "Untitled2.ipynb",
      "provenance": [],
      "authorship_tag": "ABX9TyPThw6woiQXYG8J1aNMM0I8",
      "include_colab_link": true
    },
    "kernelspec": {
      "name": "python3",
      "display_name": "Python 3"
    }
  },
  "cells": [
    {
      "cell_type": "markdown",
      "metadata": {
        "id": "view-in-github",
        "colab_type": "text"
      },
      "source": [
        "<a href=\"https://colab.research.google.com/github/sm-asif-ul-islam/Phython-Google-crash-course-Coursera/blob/master/Untitled2.ipynb\" target=\"_parent\"><img src=\"https://colab.research.google.com/assets/colab-badge.svg\" alt=\"Open In Colab\"/></a>"
      ]
    },
    {
      "cell_type": "code",
      "metadata": {
        "id": "0vq8oB-8qTX6",
        "colab_type": "code",
        "colab": {
          "base_uri": "https://localhost:8080/",
          "height": 35
        },
        "outputId": "97376786-197d-4021-e38c-ff611b35bb24"
      },
      "source": [
        "def square(n):\n",
        "    return n*n\n",
        "\n",
        "def sum_squares(x):\n",
        "    sum = 0\n",
        "    for x in range (10):\n",
        "        sum += square(x)\n",
        "        x +=1\n",
        "    return sum\n",
        "\n",
        "print(sum_squares(10)) # Should be 285"
      ],
      "execution_count": 5,
      "outputs": [
        {
          "output_type": "stream",
          "text": [
            "285\n"
          ],
          "name": "stdout"
        }
      ]
    }
  ]
}